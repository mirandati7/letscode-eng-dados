{
 "cells": [
  {
   "cell_type": "code",
   "execution_count": 3,
   "id": "d2626869",
   "metadata": {},
   "outputs": [
    {
     "name": "stdout",
     "output_type": "stream",
     "text": [
      "Digite o valor do seu salario mensal: 12000\n",
      "Digite o valor do seu gasto mensal em media.: 4000\n",
      "O Montate que voce pode economizar ao fim do ano é de .:  96000.0\n"
     ]
    }
   ],
   "source": [
    "salario_mensal = input('Digite o valor do seu salario mensal: ')\n",
    "salario_mensal = float(salario_mensal)\n",
    "gasto_mensal = input('Digite o valor do seu gasto mensal em media.: ')\n",
    "gasto_mensal = float(gasto_mensal)\n",
    "salario_total = salario_mensal * 12\n",
    "gasto_total = gasto_mensal * 12\n",
    "montante_economizado = salario_total - gasto_total\n",
    "print('O Montate que voce pode economizar ao fim do ano é de .: ', montante_economizado)"
   ]
  },
  {
   "cell_type": "code",
   "execution_count": 5,
   "id": "9ac9dca8",
   "metadata": {},
   "outputs": [
    {
     "ename": "IndentationError",
     "evalue": "unexpected indent (3978809466.py, line 3)",
     "output_type": "error",
     "traceback": [
      "\u001b[0;36m  Cell \u001b[0;32mIn [5], line 3\u001b[0;36m\u001b[0m\n\u001b[0;31m    if contador == 1\u001b[0m\n\u001b[0m    ^\u001b[0m\n\u001b[0;31mIndentationError\u001b[0m\u001b[0;31m:\u001b[0m unexpected indent\n"
     ]
    }
   ],
   "source": [
    "while contador < 10:\n",
    "    contador = contador + 1\n",
    "        if contador == 1\n",
    "            print(contador, 'item limpos')\n",
    "        else:\n",
    "            print(contador, 'itens limpos')\n",
    "print('Fim da repetição do bloco while')"
   ]
  },
  {
   "cell_type": "code",
   "execution_count": null,
   "id": "62882092",
   "metadata": {},
   "outputs": [],
   "source": []
  }
 ],
 "metadata": {
  "kernelspec": {
   "display_name": "Python 3.10.4 64-bit",
   "language": "python",
   "name": "python3"
  },
  "language_info": {
   "codemirror_mode": {
    "name": "ipython",
    "version": 3
   },
   "file_extension": ".py",
   "mimetype": "text/x-python",
   "name": "python",
   "nbconvert_exporter": "python",
   "pygments_lexer": "ipython3",
   "version": "3.10.4"
  },
  "vscode": {
   "interpreter": {
    "hash": "916dbcbb3f70747c44a77c7bcd40155683ae19c65e1c03b4aa3499c5328201f1"
   }
  }
 },
 "nbformat": 4,
 "nbformat_minor": 5
}
